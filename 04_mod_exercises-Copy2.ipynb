{
 "cells": [
  {
   "cell_type": "markdown",
   "metadata": {},
   "source": [
    "Data Science Fundamentals: Python |\n",
    "[Table of Contents](../index.ipynb)\n",
    "- - - \n",
    "<!--NAVIGATION-->\n",
    "Module 3. [Control Flow](./01_mod_control_flow.ipynb) | [Statements](./02_python_statements.ipynb) | [Functions](./03_python_functions.ipynb) | **[Exercises](./04_mod_exercises.ipynb)**\n",
    "<!--NAVIGATION-->\n",
    "Supplemental. [While Loops](./supplemental/01_while-loop.ipynb) | [If Elif Else](./supplemental/02_if-elif-else.ipynb) | [Break Continue](./supplemental/03_break_continue.ipynb) | [For Loops](./04_for_loop.ipynb)\n",
    "<!--NAVIGATION-->\n",
    "Optional. [Writing Assignment](./optional/writing_assignment.ipynb) | [Real World Examples](./optional/real_world_examples.ipynb)"
   ]
  },
  {
   "cell_type": "markdown",
   "metadata": {},
   "source": [
    "# Module 3: Practice Exercises"
   ]
  },
  {
   "cell_type": "code",
   "execution_count": null,
   "metadata": {},
   "outputs": [],
   "source": []
  },
  {
   "cell_type": "markdown",
   "metadata": {},
   "source": [
    "1. Guess a number between 1 to 9 given by the user. Hint. [Random](https://docs.python.org/3/library/random.html)"
   ]
  },
  {
   "cell_type": "code",
   "execution_count": 2,
   "metadata": {},
   "outputs": [
    {
     "name": "stdout",
     "output_type": "stream",
     "text": [
      "Please guess a number: 1\n",
      "Please guess again: 2\n",
      "Please guess again: 3\n",
      "Please guess again: 4\n",
      "Please guess again: 5\n",
      "Please guess again: 6\n",
      "Please guess again: 7\n",
      "Guessed Correctly! 7 is equal to 7 horrrrayyyy!\n"
     ]
    }
   ],
   "source": [
    "import random\n",
    "\n",
    "x = random.randrange(9)\n",
    "y = input('Please guess a number: ')\n",
    "while str(x) != y:\n",
    "    y = input(\"Please guess again: \")\n",
    "    continue\n",
    "print('Guessed Correctly! ' + str(x)+ \" is equal to \" +y+ \" horrrrayyyy!\")"
   ]
  },
  {
   "cell_type": "markdown",
   "metadata": {},
   "source": [
    "#### 2. Check the validity of password input by the user. Hint. [Re](https://docs.python.org/3/library/re.html) which does matching operations much like Perl.\n",
    "\n",
    "Validation:\n",
    "\n",
    "- At least 1 letter between [a-z] and 1 letter between [A-Z].\n",
    "- At least 1 number between [0-9].\n",
    "- At least 1 character from [$#@].\n",
    "- Minimum length 6 characters.\n",
    "- Maximum length 16 characters."
   ]
  },
  {
   "cell_type": "code",
   "execution_count": 6,
   "metadata": {},
   "outputs": [
    {
     "name": "stdout",
     "output_type": "stream",
     "text": [
      "Input your password : aA9#aA9\n",
      "Valid Password\n"
     ]
    }
   ],
   "source": []
  },
  {
   "cell_type": "markdown",
   "metadata": {},
   "source": [
    "3. Get input of the age of 3 people by user and determine oldest and youngest among them"
   ]
  },
  {
   "cell_type": "code",
   "execution_count": 1,
   "metadata": {},
   "outputs": [
    {
     "name": "stdout",
     "output_type": "stream",
     "text": [
      "Enter First Person's Age : 21\n",
      "Enter Second Person's Age : 35\n",
      "Enter Third Person's Age : 66\n",
      "The Oldest of All Three People:  66\n",
      "The Youngest of All Three People:  21\n"
     ]
    }
   ],
   "source": [
    "number1 = int(input(\"Enter First Person's Age : \"))\n",
    "number2 = int(input(\"Enter Second Person's Age : \"))\n",
    "number3 = int(input(\"Enter Third Person's Age : \"))\n",
    "#Enter First Person's Age : 21\n",
    "#Enter Second Person's Age : 35\n",
    "#Enter Third Person's Age : 66\n",
    "#The Oldest of All Three People is :  66\n",
    "#The Youngest Of All Three People is :  21\n",
    "\n",
    "if number1>number2 and number1>number3:\n",
    "    print('The Oldest of All Three People: ', number1)\n",
    "elif number2>number1 and number1>number3:\n",
    "        print('The Oldest of All Three People: ', number2)\n",
    "else: \n",
    "    print('The Oldest of All Three People: ', number3)\n",
    "if number1<number2 and number1<number3:\n",
    "    print('The Youngest of All Three People: ', number1)\n",
    "elif number2<number1 and number2<number3:\n",
    "    print('The Youngest of All Three People: ', number2)\n",
    "else: \n",
    "    print('The Youngest of All Three People is:', number3)"
   ]
  },
  {
   "cell_type": "markdown",
   "metadata": {},
   "source": [
    "4. A student will not be allowed to sit in exam if his/her attendance is less than 75%.\n",
    "\n",
    "Take following input from user\n",
    "\n",
    "- Number of classes held\n",
    "- Number of classes attended.\n",
    "- And print percentage of class attended\n",
    "- Is student is allowed to sit in exam or not?"
   ]
  },
  {
   "cell_type": "code",
   "execution_count": 1,
   "metadata": {},
   "outputs": [
    {
     "name": "stdout",
     "output_type": "stream",
     "text": [
      "How Many Classes are Held: 10\n",
      "How Many Classes Have You Attended: 2\n",
      "0.2\n",
      "You can not take part in this exam\n"
     ]
    }
   ],
   "source": [
    "#How many clases are held : 10\n",
    "#How many classes have you attended : 2\n",
    "#You can not take part in the exam\n",
    "H = int(input('How Many Classes are Held: '))\n",
    "A = int(input(\"How Many Classes Have You Attended: \"))\n",
    "X = (A/H)\n",
    "print(X)\n",
    "if X == .75:\n",
    "    print('You can take part in the exam')\n",
    "elif X > .75:\n",
    "    print('You can take part in this exam')\n",
    "else:\n",
    "    print('You can not take part in this exam')"
   ]
  },
  {
   "cell_type": "markdown",
   "metadata": {},
   "source": [
    "5. Get an integer N from the user and perform the following actions:\n",
    "\n",
    "Find out - \n",
    "- if N is odd, print \"weird\"\n",
    "- if N is even and in the inclusive range of 2 to 5, print \"Not Weird\"\n",
    "- if N is even and in the inclusive range of 6 to 20, print \"Weird\"\n",
    "- if N is even and greater than 20, print \"Not Weird\""
   ]
  },
  {
   "cell_type": "code",
   "execution_count": 7,
   "metadata": {},
   "outputs": [
    {
     "name": "stdout",
     "output_type": "stream",
     "text": [
      "Test if this number is weird or not weird: 22\n",
      "not weird\n"
     ]
    }
   ],
   "source": [
    "# Given an integer, n, perform the following conditional actions:\n",
    "# If n is odd, print Weird\n",
    "# If n is even and in the inclusive range of 2 to 5, print Not Weird\n",
    "# If n is even and in the inclusive range of 6 to 20, print Weird\n",
    "# If n is even and greater than 20, print Not Weird\n",
    "\n",
    "n = int(input('Test if this number is weird or not weird: '))\n",
    "\n",
    "if n % 2 == 0:\n",
    "    if 2 <= n <= 5:\n",
    "        print('not weird')\n",
    "    if 6 <= n <= 20:\n",
    "        print('weird')\n",
    "    if n > 20:\n",
    "        print('not weird')\n",
    "else:\n",
    "    print('weird')\n"
   ]
  },
  {
   "cell_type": "markdown",
   "metadata": {},
   "source": [
    "## ## Extra Points\n",
    "- - -"
   ]
  },
  {
   "cell_type": "markdown",
   "metadata": {},
   "source": [
    "1. ***Optional Exercise (Extra Points)***. Write a Python program to reverse a string."
   ]
  },
  {
   "cell_type": "raw",
   "metadata": {},
   "source": [
    "Sample String : \"1234abcd\"\n",
    "Expected Output : \"dcba4321\""
   ]
  },
  {
   "cell_type": "code",
   "execution_count": 15,
   "metadata": {},
   "outputs": [
    {
     "name": "stdout",
     "output_type": "stream",
     "text": [
      "Input a string to reverse: 1234abcd\n"
     ]
    },
    {
     "data": {
      "text/plain": [
       "'dcba4321'"
      ]
     },
     "execution_count": 15,
     "metadata": {},
     "output_type": "execute_result"
    }
   ],
   "source": []
  },
  {
   "cell_type": "markdown",
   "metadata": {},
   "source": [
    "2. ***Optional Exercise (Extra Points)***. Write a Python function to multiply all the numbers in a list. "
   ]
  },
  {
   "cell_type": "raw",
   "metadata": {},
   "source": [
    "Sample List : (8, 2, 3, -1, 7)\n",
    "Expected Output : -336"
   ]
  },
  {
   "cell_type": "code",
   "execution_count": 14,
   "metadata": {},
   "outputs": [
    {
     "name": "stdout",
     "output_type": "stream",
     "text": [
      "-336\n"
     ]
    }
   ],
   "source": []
  },
  {
   "cell_type": "markdown",
   "metadata": {},
   "source": [
    "3. ***Optional Exercise (Extra Points)***. Write a Python function that accepts a string and calculate the number of upper case letters and lower case letters."
   ]
  },
  {
   "cell_type": "raw",
   "metadata": {},
   "source": [
    "Sample String : 'The quick Brow Fox'\n",
    "Expected Output :\n",
    "No. of Upper case characters : 3\n",
    "No. of Lower case Characters : 12"
   ]
  },
  {
   "cell_type": "code",
   "execution_count": 4,
   "metadata": {},
   "outputs": [
    {
     "name": "stdout",
     "output_type": "stream",
     "text": [
      "Input a sentence to calculate the number of upper and lower case letters: The quick Brown Fox\n",
      "Original String :  The quick Brown Fox\n",
      "No. of Upper case characters :  3\n",
      "No. of Lower case Characters :  13\n"
     ]
    }
   ],
   "source": []
  },
  {
   "cell_type": "markdown",
   "metadata": {},
   "source": [
    "- - -\n",
    "\n",
    "Copyright © 2020 Qualex Consulting Services Incorporated."
   ]
  }
 ],
 "metadata": {
  "kernelspec": {
   "display_name": "Python 3 (ipykernel)",
   "language": "python",
   "name": "python3"
  },
  "language_info": {
   "codemirror_mode": {
    "name": "ipython",
    "version": 3
   },
   "file_extension": ".py",
   "mimetype": "text/x-python",
   "name": "python",
   "nbconvert_exporter": "python",
   "pygments_lexer": "ipython3",
   "version": "3.9.12"
  }
 },
 "nbformat": 4,
 "nbformat_minor": 4
}
